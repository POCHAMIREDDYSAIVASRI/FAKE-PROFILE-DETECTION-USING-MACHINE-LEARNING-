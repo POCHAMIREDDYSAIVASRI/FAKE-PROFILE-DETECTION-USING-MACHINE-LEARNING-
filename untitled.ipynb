{
 "cells": [
  {
   "cell_type": "code",
   "execution_count": 1,
   "metadata": {},
   "outputs": [
    {
     "name": "stdout",
     "output_type": "stream",
     "text": [
      "Random Forest Prediction: [1]\n",
      "SVM Prediction: [0]\n",
      "Random Forest: Fake Profile Detected\n",
      "SVM: Real Profile Detected\n"
     ]
    },
    {
     "name": "stderr",
     "output_type": "stream",
     "text": [
      "c:\\Users\\saiva\\OneDrive\\Desktop\\MLproject\\Lib\\site-packages\\sklearn\\base.py:493: UserWarning: X does not have valid feature names, but RandomForestClassifier was fitted with feature names\n",
      "  warnings.warn(\n",
      "c:\\Users\\saiva\\OneDrive\\Desktop\\MLproject\\Lib\\site-packages\\sklearn\\base.py:493: UserWarning: X does not have valid feature names, but SVC was fitted with feature names\n",
      "  warnings.warn(\n"
     ]
    }
   ],
   "source": [
    "import pickle\n",
    "import numpy as np\n",
    "\n",
    "# Load Random Forest model\n",
    "with open('random_forest_model.pkl', 'rb') as file:\n",
    "    rand = pickle.load(file)\n",
    "\n",
    "# # Load SVM model\n",
    "with open('svm_model.pkl', 'rb') as file:\n",
    "    classifier = pickle.load(file)\n",
    "\n",
    "# Example input data for prediction (adjust according to your feature set)\n",
    "input_data = [100, 200, 300, 400, 1, 0, 0 ]  # Example input data for fake profile prediction\n",
    "\n",
    "# Convert input data to numpy array\n",
    "input_data_array = np.array(input_data).reshape(1, -1)\n",
    "\n",
    "# Make predictions for each model\n",
    "rand_prediction = rand.predict(input_data_array)\n",
    "svm_prediction = classifier.predict(input_data_array)\n",
    "\n",
    "# Print predictions\n",
    "print(\"Random Forest Prediction:\", rand_prediction)\n",
    "print(\"SVM Prediction:\", svm_prediction)\n",
    "\n",
    "# Check prediction result for Random Forest model\n",
    "if rand_prediction[0] == 1:\n",
    "    print('Random Forest: Fake Profile Detected')\n",
    "else:\n",
    "    print('Random Forest: Real Profile Detected')\n",
    "\n",
    "# Check prediction result for SVM model\n",
    "if svm_prediction[0] == 1:\n",
    "    print('SVM: Fake Profile Detected')\n",
    "else:\n",
    "    print('SVM: Real Profile Detected')\n"
   ]
  }
 ],
 "metadata": {
  "kernelspec": {
   "display_name": "MLproject",
   "language": "python",
   "name": "python3"
  },
  "language_info": {
   "codemirror_mode": {
    "name": "ipython",
    "version": 3
   },
   "file_extension": ".py",
   "mimetype": "text/x-python",
   "name": "python",
   "nbconvert_exporter": "python",
   "pygments_lexer": "ipython3",
   "version": "3.12.0"
  }
 },
 "nbformat": 4,
 "nbformat_minor": 2
}
